{
  "nbformat": 4,
  "nbformat_minor": 0,
  "metadata": {
    "colab": {
      "name": "Project_1_v2.ipynb",
      "version": "0.3.2",
      "provenance": [],
      "collapsed_sections": []
    },
    "kernelspec": {
      "name": "python3",
      "display_name": "Python 3"
    }
  },
  "cells": [
    {
      "metadata": {
        "id": "PF0YiN4ItzIR",
        "colab_type": "text"
      },
      "cell_type": "markdown",
      "source": [
        "# CSC 215 (Spring 2019): PROJECT 1\n",
        "\n",
        "\n",
        "---\n",
        "\n"
      ]
    },
    {
      "metadata": {
        "id": "Ckvs4tj-uCMu",
        "colab_type": "text"
      },
      "cell_type": "markdown",
      "source": [
        "**Team Members: John Cyrus Kandikatla, Megha Mathpal**"
      ]
    },
    {
      "metadata": {
        "id": "tO4joLhruaz-",
        "colab_type": "text"
      },
      "cell_type": "markdown",
      "source": [
        "We use business star ratings and reviews as target and features to pass into the below models\n",
        "\n",
        "\n",
        "---\n",
        "\n",
        "\n",
        "\n",
        "*   Linear Regression\n",
        "*   Logistic Regression\n",
        "*   Nearest Neighbor\n",
        "*   Support Vector Machine\n",
        "*   Multinomial Naive Bayes\n"
      ]
    },
    {
      "metadata": {
        "id": "4pKFh8OJngIE",
        "colab_type": "text"
      },
      "cell_type": "markdown",
      "source": [
        "Drive Mount"
      ]
    },
    {
      "metadata": {
        "id": "vS-6_Yd3nXx6",
        "colab_type": "code",
        "outputId": "c6183e72-717a-4791-b17e-328d9a28a763",
        "colab": {
          "base_uri": "https://localhost:8080/",
          "height": 123
        }
      },
      "cell_type": "code",
      "source": [
        "from google.colab import drive                     #Mounting google drive\n",
        "drive.mount('/content/gdrive')"
      ],
      "execution_count": 0,
      "outputs": [
        {
          "output_type": "stream",
          "text": [
            "Go to this URL in a browser: https://accounts.google.com/o/oauth2/auth?client_id=947318989803-6bn6qk8qdgf4n4g3pfee6491hc0brc4i.apps.googleusercontent.com&redirect_uri=urn%3Aietf%3Awg%3Aoauth%3A2.0%3Aoob&scope=email%20https%3A%2F%2Fwww.googleapis.com%2Fauth%2Fdocs.test%20https%3A%2F%2Fwww.googleapis.com%2Fauth%2Fdrive%20https%3A%2F%2Fwww.googleapis.com%2Fauth%2Fdrive.photos.readonly%20https%3A%2F%2Fwww.googleapis.com%2Fauth%2Fpeopleapi.readonly&response_type=code\n",
            "\n",
            "Enter your authorization code:\n",
            "··········\n",
            "Mounted at /content/gdrive\n"
          ],
          "name": "stdout"
        }
      ]
    },
    {
      "metadata": {
        "id": "ggJXyPXurQQf",
        "colab_type": "text"
      },
      "cell_type": "markdown",
      "source": [
        "# **Imports**"
      ]
    },
    {
      "metadata": {
        "id": "KcnkIGLKZmt-",
        "colab_type": "code",
        "colab": {}
      },
      "cell_type": "code",
      "source": [
        "import json\n",
        "import csv\n",
        "import pandas as pd\n",
        "import numpy as np \n",
        "import os\n",
        "from scipy.stats import zscore               # min max scaler\n",
        "\n",
        "\n",
        "from sklearn.preprocessing import MinMaxScaler\n",
        "from sklearn.naive_bayes import MultinomialNB\n",
        "from sklearn.neighbors import KNeighborsClassifier\n",
        "from sklearn.linear_model import LogisticRegression\n",
        "from sklearn import svm\n",
        "from sklearn.metrics import confusion_matrix, classification_report\n",
        "\n",
        "%matplotlib inline\n",
        "import matplotlib.pyplot as plt\n",
        "\n",
        "from matplotlib.pyplot import figure, show\n",
        "from sklearn.model_selection import train_test_split\n",
        "from sklearn import metrics\n",
        "import tensorflow as tf\n",
        "from keras.models import Sequential\n",
        "from keras.layers.core import Dense, Activation\n",
        "from keras.callbacks import EarlyStopping\n",
        "from keras.callbacks import ModelCheckpoint\n"
      ],
      "execution_count": 0,
      "outputs": []
    },
    {
      "metadata": {
        "id": "W6npADNBqD-9",
        "colab_type": "text"
      },
      "cell_type": "markdown",
      "source": [
        "# **Review json to csv file**"
      ]
    },
    {
      "metadata": {
        "id": "8xs_JArrq3Fk",
        "colab_type": "code",
        "colab": {}
      },
      "cell_type": "code",
      "source": [
        "\n",
        "outfile = open(\"./review.tsv\", 'w')\n",
        "sfile = csv.writer(outfile, delimiter =\"\\t\", quoting=csv.QUOTE_MINIMAL)\n",
        "sfile.writerow(['business_id','stars', 'text'])\n",
        "with open('./gdrive/My Drive/review.json', encoding = \"utf-8\") as f:    \n",
        "  for line in f:        \n",
        "    row = json.loads(line)        \n",
        "    # some special char must be encoded in 'utf-8'         \n",
        "    sfile.writerow([row['business_id'], row['stars'], (row['text']).encode('utf-8')])\n",
        "outfile.close()\n",
        "df_review= pd.read_csv('review.tsv', delimiter =\"\\t\", encoding=\"utf-8\")"
      ],
      "execution_count": 0,
      "outputs": []
    },
    {
      "metadata": {
        "id": "C0wixryjjm8Q",
        "colab_type": "code",
        "outputId": "37a2bce8-496d-4e73-cf1a-c93934568f80",
        "colab": {
          "base_uri": "https://localhost:8080/",
          "height": 34
        }
      },
      "cell_type": "code",
      "source": [
        "df_review.shape"
      ],
      "execution_count": 3,
      "outputs": [
        {
          "output_type": "execute_result",
          "data": {
            "text/plain": [
              "(6685900, 3)"
            ]
          },
          "metadata": {
            "tags": []
          },
          "execution_count": 3
        }
      ]
    },
    {
      "metadata": {
        "id": "Fi76tjszVLuZ",
        "colab_type": "code",
        "outputId": "229508d6-770f-4e2d-adeb-a7a0fedb2df6",
        "colab": {
          "base_uri": "https://localhost:8080/",
          "height": 203
        }
      },
      "cell_type": "code",
      "source": [
        "df_review.head()"
      ],
      "execution_count": 4,
      "outputs": [
        {
          "output_type": "execute_result",
          "data": {
            "text/html": [
              "<div>\n",
              "<style scoped>\n",
              "    .dataframe tbody tr th:only-of-type {\n",
              "        vertical-align: middle;\n",
              "    }\n",
              "\n",
              "    .dataframe tbody tr th {\n",
              "        vertical-align: top;\n",
              "    }\n",
              "\n",
              "    .dataframe thead th {\n",
              "        text-align: right;\n",
              "    }\n",
              "</style>\n",
              "<table border=\"1\" class=\"dataframe\">\n",
              "  <thead>\n",
              "    <tr style=\"text-align: right;\">\n",
              "      <th></th>\n",
              "      <th>business_id</th>\n",
              "      <th>stars</th>\n",
              "      <th>text</th>\n",
              "    </tr>\n",
              "  </thead>\n",
              "  <tbody>\n",
              "    <tr>\n",
              "      <th>0</th>\n",
              "      <td>ujmEBvifdJM6h6RLv4wQIg</td>\n",
              "      <td>1.0</td>\n",
              "      <td>b'Total bill for this horrible service? Over $...</td>\n",
              "    </tr>\n",
              "    <tr>\n",
              "      <th>1</th>\n",
              "      <td>NZnhc2sEQy3RmzKTZnqtwQ</td>\n",
              "      <td>5.0</td>\n",
              "      <td>b\"I *adore* Travis at the Hard Rock's new Kell...</td>\n",
              "    </tr>\n",
              "    <tr>\n",
              "      <th>2</th>\n",
              "      <td>WTqjgwHlXbSFevF32_DJVw</td>\n",
              "      <td>5.0</td>\n",
              "      <td>b\"I have to say that this office really has it...</td>\n",
              "    </tr>\n",
              "    <tr>\n",
              "      <th>3</th>\n",
              "      <td>ikCg8xy5JIg_NGPx-MSIDA</td>\n",
              "      <td>5.0</td>\n",
              "      <td>b\"Went in for a lunch. Steak sandwich was deli...</td>\n",
              "    </tr>\n",
              "    <tr>\n",
              "      <th>4</th>\n",
              "      <td>b1b1eb3uo-w561D0ZfCEiQ</td>\n",
              "      <td>1.0</td>\n",
              "      <td>b'Today was my second out of three sessions I ...</td>\n",
              "    </tr>\n",
              "  </tbody>\n",
              "</table>\n",
              "</div>"
            ],
            "text/plain": [
              "              business_id  stars  \\\n",
              "0  ujmEBvifdJM6h6RLv4wQIg    1.0   \n",
              "1  NZnhc2sEQy3RmzKTZnqtwQ    5.0   \n",
              "2  WTqjgwHlXbSFevF32_DJVw    5.0   \n",
              "3  ikCg8xy5JIg_NGPx-MSIDA    5.0   \n",
              "4  b1b1eb3uo-w561D0ZfCEiQ    1.0   \n",
              "\n",
              "                                                text  \n",
              "0  b'Total bill for this horrible service? Over $...  \n",
              "1  b\"I *adore* Travis at the Hard Rock's new Kell...  \n",
              "2  b\"I have to say that this office really has it...  \n",
              "3  b\"Went in for a lunch. Steak sandwich was deli...  \n",
              "4  b'Today was my second out of three sessions I ...  "
            ]
          },
          "metadata": {
            "tags": []
          },
          "execution_count": 4
        }
      ]
    },
    {
      "metadata": {
        "id": "5V-133YiqK6c",
        "colab_type": "text"
      },
      "cell_type": "markdown",
      "source": [
        "# **Business json to csv file**"
      ]
    },
    {
      "metadata": {
        "id": "kPqy97dVteQ3",
        "colab_type": "code",
        "colab": {}
      },
      "cell_type": "code",
      "source": [
        "\n",
        "outfile = open(\"./business.tsv\", 'w')\n",
        "sfile = csv.writer(outfile, delimiter =\"\\t\", quoting=csv.QUOTE_MINIMAL)\n",
        "sfile.writerow(['business_id','name','stars', 'review_count'])\n",
        "with open('./gdrive/My Drive/business.json', encoding = \"utf-8\") as f:    \n",
        "  for line in f:        \n",
        "    row = json.loads(line)        \n",
        "    # some special char must be encoded in 'utf-8'         \n",
        "    sfile.writerow([row['business_id'] ,row['name'] ,row['stars'] ,row['review_count']])\n",
        "outfile.close()\n",
        "df_business= pd.read_csv('business.tsv', delimiter =\"\\t\", encoding=\"utf-8\")"
      ],
      "execution_count": 0,
      "outputs": []
    },
    {
      "metadata": {
        "id": "-4uLVLs3jwaE",
        "colab_type": "code",
        "outputId": "9152301f-693b-49a7-f936-48d0205f40c5",
        "colab": {
          "base_uri": "https://localhost:8080/",
          "height": 34
        }
      },
      "cell_type": "code",
      "source": [
        "df_business.shape"
      ],
      "execution_count": 6,
      "outputs": [
        {
          "output_type": "execute_result",
          "data": {
            "text/plain": [
              "(192609, 4)"
            ]
          },
          "metadata": {
            "tags": []
          },
          "execution_count": 6
        }
      ]
    },
    {
      "metadata": {
        "id": "PrXcYKtBVX4o",
        "colab_type": "code",
        "outputId": "9265a4ff-ac41-49c8-8057-d58454a5a3d8",
        "colab": {
          "base_uri": "https://localhost:8080/",
          "height": 203
        }
      },
      "cell_type": "code",
      "source": [
        "df_business.head()"
      ],
      "execution_count": 7,
      "outputs": [
        {
          "output_type": "execute_result",
          "data": {
            "text/html": [
              "<div>\n",
              "<style scoped>\n",
              "    .dataframe tbody tr th:only-of-type {\n",
              "        vertical-align: middle;\n",
              "    }\n",
              "\n",
              "    .dataframe tbody tr th {\n",
              "        vertical-align: top;\n",
              "    }\n",
              "\n",
              "    .dataframe thead th {\n",
              "        text-align: right;\n",
              "    }\n",
              "</style>\n",
              "<table border=\"1\" class=\"dataframe\">\n",
              "  <thead>\n",
              "    <tr style=\"text-align: right;\">\n",
              "      <th></th>\n",
              "      <th>business_id</th>\n",
              "      <th>name</th>\n",
              "      <th>stars</th>\n",
              "      <th>review_count</th>\n",
              "    </tr>\n",
              "  </thead>\n",
              "  <tbody>\n",
              "    <tr>\n",
              "      <th>0</th>\n",
              "      <td>1SWheh84yJXfytovILXOAQ</td>\n",
              "      <td>Arizona Biltmore Golf Club</td>\n",
              "      <td>3.0</td>\n",
              "      <td>5</td>\n",
              "    </tr>\n",
              "    <tr>\n",
              "      <th>1</th>\n",
              "      <td>QXAEGFB4oINsVuTFxEYKFQ</td>\n",
              "      <td>Emerald Chinese Restaurant</td>\n",
              "      <td>2.5</td>\n",
              "      <td>128</td>\n",
              "    </tr>\n",
              "    <tr>\n",
              "      <th>2</th>\n",
              "      <td>gnKjwL_1w79qoiV3IC_xQQ</td>\n",
              "      <td>Musashi Japanese Restaurant</td>\n",
              "      <td>4.0</td>\n",
              "      <td>170</td>\n",
              "    </tr>\n",
              "    <tr>\n",
              "      <th>3</th>\n",
              "      <td>xvX2CttrVhyG2z1dFg_0xw</td>\n",
              "      <td>Farmers Insurance - Paul Lorenz</td>\n",
              "      <td>5.0</td>\n",
              "      <td>3</td>\n",
              "    </tr>\n",
              "    <tr>\n",
              "      <th>4</th>\n",
              "      <td>HhyxOkGAM07SRYtlQ4wMFQ</td>\n",
              "      <td>Queen City Plumbing</td>\n",
              "      <td>4.0</td>\n",
              "      <td>4</td>\n",
              "    </tr>\n",
              "  </tbody>\n",
              "</table>\n",
              "</div>"
            ],
            "text/plain": [
              "              business_id                             name  stars  \\\n",
              "0  1SWheh84yJXfytovILXOAQ       Arizona Biltmore Golf Club    3.0   \n",
              "1  QXAEGFB4oINsVuTFxEYKFQ       Emerald Chinese Restaurant    2.5   \n",
              "2  gnKjwL_1w79qoiV3IC_xQQ      Musashi Japanese Restaurant    4.0   \n",
              "3  xvX2CttrVhyG2z1dFg_0xw  Farmers Insurance - Paul Lorenz    5.0   \n",
              "4  HhyxOkGAM07SRYtlQ4wMFQ              Queen City Plumbing    4.0   \n",
              "\n",
              "   review_count  \n",
              "0             5  \n",
              "1           128  \n",
              "2           170  \n",
              "3             3  \n",
              "4             4  "
            ]
          },
          "metadata": {
            "tags": []
          },
          "execution_count": 7
        }
      ]
    },
    {
      "metadata": {
        "id": "r6JcVFTEl0Yr",
        "colab_type": "text"
      },
      "cell_type": "markdown",
      "source": [
        "# **Grouping ALL the reviews by each business and creating a new  dataframe,**"
      ]
    },
    {
      "metadata": {
        "id": "ypa-rChpWoG8",
        "colab_type": "code",
        "colab": {}
      },
      "cell_type": "code",
      "source": [
        "df_review_agg = df_review.groupby('business_id')['text'].sum() # Grouping reviews by business_id"
      ],
      "execution_count": 0,
      "outputs": []
    },
    {
      "metadata": {
        "id": "srK7EUw1XdD6",
        "colab_type": "code",
        "colab": {}
      },
      "cell_type": "code",
      "source": [
        "df_ready_for_sklearn = pd.DataFrame({'business_id': df_review_agg.index, 'all_reviews': df_review_agg.values})     # group ALL the reviews by each business and create a new  dataframe,  "
      ],
      "execution_count": 0,
      "outputs": []
    },
    {
      "metadata": {
        "id": "ugqSp3GuaDsO",
        "colab_type": "text"
      },
      "cell_type": "markdown",
      "source": [
        "# **Merge two dataframes along the business_id value**"
      ]
    },
    {
      "metadata": {
        "id": "xyTBJdBzaHnQ",
        "colab_type": "code",
        "colab": {}
      },
      "cell_type": "code",
      "source": [
        "df_mix = pd.merge(df_ready_for_sklearn, df_business, on='business_id') # Ex:pd.merge(df_new, df_n, on='subject_id')"
      ],
      "execution_count": 0,
      "outputs": []
    },
    {
      "metadata": {
        "id": "WvNTpfp3bFSs",
        "colab_type": "code",
        "outputId": "1d9c88a7-89ee-48e5-e325-16e2574700f9",
        "colab": {
          "base_uri": "https://localhost:8080/",
          "height": 34
        }
      },
      "cell_type": "code",
      "source": [
        "df_mix.shape"
      ],
      "execution_count": 118,
      "outputs": [
        {
          "output_type": "execute_result",
          "data": {
            "text/plain": [
              "(7083, 6)"
            ]
          },
          "metadata": {
            "tags": []
          },
          "execution_count": 118
        }
      ]
    },
    {
      "metadata": {
        "id": "UY7tf8L1j_oN",
        "colab_type": "code",
        "outputId": "1039bb37-a596-4ebf-df14-bf0015ba1df4",
        "colab": {
          "base_uri": "https://localhost:8080/",
          "height": 34
        }
      },
      "cell_type": "code",
      "source": [
        "df_ready_for_sklearn.shape"
      ],
      "execution_count": 119,
      "outputs": [
        {
          "output_type": "execute_result",
          "data": {
            "text/plain": [
              "(192606, 2)"
            ]
          },
          "metadata": {
            "tags": []
          },
          "execution_count": 119
        }
      ]
    },
    {
      "metadata": {
        "id": "utK4EQ51kg0q",
        "colab_type": "code",
        "outputId": "6bb3284b-c603-46df-8c2f-fab0edf0a399",
        "colab": {
          "base_uri": "https://localhost:8080/",
          "height": 203
        }
      },
      "cell_type": "code",
      "source": [
        "df_mix.head()"
      ],
      "execution_count": 13,
      "outputs": [
        {
          "output_type": "execute_result",
          "data": {
            "text/html": [
              "<div>\n",
              "<style scoped>\n",
              "    .dataframe tbody tr th:only-of-type {\n",
              "        vertical-align: middle;\n",
              "    }\n",
              "\n",
              "    .dataframe tbody tr th {\n",
              "        vertical-align: top;\n",
              "    }\n",
              "\n",
              "    .dataframe thead th {\n",
              "        text-align: right;\n",
              "    }\n",
              "</style>\n",
              "<table border=\"1\" class=\"dataframe\">\n",
              "  <thead>\n",
              "    <tr style=\"text-align: right;\">\n",
              "      <th></th>\n",
              "      <th>all_reviews</th>\n",
              "      <th>business_id</th>\n",
              "      <th>name</th>\n",
              "      <th>stars</th>\n",
              "      <th>review_count</th>\n",
              "    </tr>\n",
              "  </thead>\n",
              "  <tbody>\n",
              "    <tr>\n",
              "      <th>0</th>\n",
              "      <td>b'If you are looking for authentic Mexican str...</td>\n",
              "      <td>--1UhMGODdWsrMastO9DZw</td>\n",
              "      <td>The Spicy Amigos</td>\n",
              "      <td>4.0</td>\n",
              "      <td>24</td>\n",
              "    </tr>\n",
              "    <tr>\n",
              "      <th>1</th>\n",
              "      <td>b\"They have the best Chinese BBQ Pork (Char Si...</td>\n",
              "      <td>--6MefnULPED_I942VcFNA</td>\n",
              "      <td>John's Chinese BBQ Restaurant</td>\n",
              "      <td>3.0</td>\n",
              "      <td>44</td>\n",
              "    </tr>\n",
              "    <tr>\n",
              "      <th>2</th>\n",
              "      <td>b\"I'm a tad reluctant to write a review as I r...</td>\n",
              "      <td>--7zmmkVg-IMGaXbuVd0SQ</td>\n",
              "      <td>Primal Brewery</td>\n",
              "      <td>4.0</td>\n",
              "      <td>58</td>\n",
              "    </tr>\n",
              "    <tr>\n",
              "      <th>3</th>\n",
              "      <td>b'Dr. LaCognata is great.  He is a great liste...</td>\n",
              "      <td>--8LPVSo5i0Oo61X01sV9A</td>\n",
              "      <td>Valley Bone and Joint Specialists</td>\n",
              "      <td>3.5</td>\n",
              "      <td>4</td>\n",
              "    </tr>\n",
              "    <tr>\n",
              "      <th>4</th>\n",
              "      <td>b'Always great customer service. Affordable ha...</td>\n",
              "      <td>--9QQLMTbFzLJ_oT-ON3Xw</td>\n",
              "      <td>Great Clips</td>\n",
              "      <td>3.5</td>\n",
              "      <td>12</td>\n",
              "    </tr>\n",
              "  </tbody>\n",
              "</table>\n",
              "</div>"
            ],
            "text/plain": [
              "                                         all_reviews             business_id  \\\n",
              "0  b'If you are looking for authentic Mexican str...  --1UhMGODdWsrMastO9DZw   \n",
              "1  b\"They have the best Chinese BBQ Pork (Char Si...  --6MefnULPED_I942VcFNA   \n",
              "2  b\"I'm a tad reluctant to write a review as I r...  --7zmmkVg-IMGaXbuVd0SQ   \n",
              "3  b'Dr. LaCognata is great.  He is a great liste...  --8LPVSo5i0Oo61X01sV9A   \n",
              "4  b'Always great customer service. Affordable ha...  --9QQLMTbFzLJ_oT-ON3Xw   \n",
              "\n",
              "                                name  stars  review_count  \n",
              "0                   The Spicy Amigos    4.0            24  \n",
              "1      John's Chinese BBQ Restaurant    3.0            44  \n",
              "2                     Primal Brewery    4.0            58  \n",
              "3  Valley Bone and Joint Specialists    3.5             4  \n",
              "4                        Great Clips    3.5            12  "
            ]
          },
          "metadata": {
            "tags": []
          },
          "execution_count": 13
        }
      ]
    },
    {
      "metadata": {
        "id": "A15ZMpcTr9L9",
        "colab_type": "text"
      },
      "cell_type": "markdown",
      "source": [
        "**Removing missing values from merged dataframe**"
      ]
    },
    {
      "metadata": {
        "id": "ItICieeEvtwf",
        "colab_type": "code",
        "colab": {}
      },
      "cell_type": "code",
      "source": [
        "df_review = df_review.dropna()\n",
        "df_business = df_business.dropna()\n"
      ],
      "execution_count": 0,
      "outputs": []
    },
    {
      "metadata": {
        "id": "VC5Nh0Xnwg7G",
        "colab_type": "code",
        "outputId": "75548e2c-0115-4dab-b2a5-bc0e3029f0cc",
        "colab": {
          "base_uri": "https://localhost:8080/",
          "height": 34
        }
      },
      "cell_type": "code",
      "source": [
        "df_review.shape"
      ],
      "execution_count": 15,
      "outputs": [
        {
          "output_type": "execute_result",
          "data": {
            "text/plain": [
              "(6685900, 3)"
            ]
          },
          "metadata": {
            "tags": []
          },
          "execution_count": 15
        }
      ]
    },
    {
      "metadata": {
        "id": "HA32bXNdwqWZ",
        "colab_type": "code",
        "outputId": "a1103f3a-1506-414f-d88a-ef0d2a99e6fc",
        "colab": {
          "base_uri": "https://localhost:8080/",
          "height": 34
        }
      },
      "cell_type": "code",
      "source": [
        "df_business.shape"
      ],
      "execution_count": 16,
      "outputs": [
        {
          "output_type": "execute_result",
          "data": {
            "text/plain": [
              "(192609, 4)"
            ]
          },
          "metadata": {
            "tags": []
          },
          "execution_count": 16
        }
      ]
    },
    {
      "metadata": {
        "id": "yvU6jDasw_tZ",
        "colab_type": "text"
      },
      "cell_type": "markdown",
      "source": [
        "# **Using businesses which have more than 166 reviews (2% of max review_count)**"
      ]
    },
    {
      "metadata": {
        "id": "3qicZWA0tLvj",
        "colab_type": "code",
        "colab": {}
      },
      "cell_type": "code",
      "source": [
        "df_mix = df_mix[df_mix.review_count >= 166]        # we get around 7000 businesses to work with"
      ],
      "execution_count": 0,
      "outputs": []
    },
    {
      "metadata": {
        "id": "r1m0HlYTsLef",
        "colab_type": "code",
        "outputId": "be749364-c22a-442c-ca1c-521f8d06e077",
        "colab": {
          "base_uri": "https://localhost:8080/",
          "height": 34
        }
      },
      "cell_type": "code",
      "source": [
        "df_mix.shape"
      ],
      "execution_count": 18,
      "outputs": [
        {
          "output_type": "execute_result",
          "data": {
            "text/plain": [
              "(7083, 5)"
            ]
          },
          "metadata": {
            "tags": []
          },
          "execution_count": 18
        }
      ]
    },
    {
      "metadata": {
        "id": "oV-2UCyd5a9Y",
        "colab_type": "code",
        "colab": {}
      },
      "cell_type": "code",
      "source": [
        "df_mix['all_reviews'] = df_mix['all_reviews'].str.replace('\\d+', '') # removing numbers from df_mix"
      ],
      "execution_count": 0,
      "outputs": []
    },
    {
      "metadata": {
        "id": "5eX7D9sm5wHb",
        "colab_type": "code",
        "outputId": "7d53eacf-ee53-45e7-e099-633a793fb116",
        "colab": {
          "base_uri": "https://localhost:8080/",
          "height": 34
        }
      },
      "cell_type": "code",
      "source": [
        "df_mix.shape"
      ],
      "execution_count": 21,
      "outputs": [
        {
          "output_type": "execute_result",
          "data": {
            "text/plain": [
              "(7083, 5)"
            ]
          },
          "metadata": {
            "tags": []
          },
          "execution_count": 21
        }
      ]
    },
    {
      "metadata": {
        "id": "tIERVAe1DTv4",
        "colab_type": "text"
      },
      "cell_type": "markdown",
      "source": [
        "# **Normalizing review_count**"
      ]
    },
    {
      "metadata": {
        "id": "TaX-j8ya3XEq",
        "colab_type": "code",
        "colab": {
          "base_uri": "https://localhost:8080/",
          "height": 226
        },
        "outputId": "a24f8f5f-2dd8-4ebc-b746-07c12e3ffb72"
      },
      "cell_type": "code",
      "source": [
        "from sklearn.preprocessing import MinMaxScaler             # scikit min max scaler\n",
        "\n",
        "data = df_mix.as_matrix(columns=['review_count'])\n",
        "scaler = MinMaxScaler()\n",
        "print(scaler.fit(data))\n",
        "MinMaxScaler(copy=True, feature_range=(0, 1))\n",
        "print(scaler.data_max_)\n",
        "print(scaler.transform(data))\n",
        "norm_data = scaler.transform(data)\n",
        "df_mix['norm_review_count'] = norm_data"
      ],
      "execution_count": 22,
      "outputs": [
        {
          "output_type": "stream",
          "text": [
            "MinMaxScaler(copy=True, feature_range=(0, 1))\n",
            "[8348.]\n",
            "[[0.17685163]\n",
            " [0.02199951]\n",
            " [0.06563187]\n",
            " ...\n",
            " [0.0507211 ]\n",
            " [0.00794427]\n",
            " [0.00366659]]\n"
          ],
          "name": "stdout"
        },
        {
          "output_type": "stream",
          "text": [
            "/usr/local/lib/python3.6/dist-packages/sklearn/utils/validation.py:595: DataConversionWarning: Data with input dtype int64 was converted to float64 by MinMaxScaler.\n",
            "  warnings.warn(msg, DataConversionWarning)\n"
          ],
          "name": "stderr"
        }
      ]
    },
    {
      "metadata": {
        "id": "-bIR_A5WDfHM",
        "colab_type": "code",
        "outputId": "f3f03ac5-43db-4f35-d8b4-de8dfc341443",
        "colab": {
          "base_uri": "https://localhost:8080/",
          "height": 34
        }
      },
      "cell_type": "code",
      "source": [
        "df_mix.shape     #new column added"
      ],
      "execution_count": 23,
      "outputs": [
        {
          "output_type": "execute_result",
          "data": {
            "text/plain": [
              "(7083, 6)"
            ]
          },
          "metadata": {
            "tags": []
          },
          "execution_count": 23
        }
      ]
    },
    {
      "metadata": {
        "id": "lKz0DvdADkOU",
        "colab_type": "code",
        "outputId": "b557a75d-dd32-4dc3-bfa7-af23e1cd2132",
        "colab": {
          "base_uri": "https://localhost:8080/",
          "height": 288
        }
      },
      "cell_type": "code",
      "source": [
        "df_mix.head()      # Only businesses with more than 166 reviews are here hence index starting from 5"
      ],
      "execution_count": 24,
      "outputs": [
        {
          "output_type": "execute_result",
          "data": {
            "text/html": [
              "<div>\n",
              "<style scoped>\n",
              "    .dataframe tbody tr th:only-of-type {\n",
              "        vertical-align: middle;\n",
              "    }\n",
              "\n",
              "    .dataframe tbody tr th {\n",
              "        vertical-align: top;\n",
              "    }\n",
              "\n",
              "    .dataframe thead th {\n",
              "        text-align: right;\n",
              "    }\n",
              "</style>\n",
              "<table border=\"1\" class=\"dataframe\">\n",
              "  <thead>\n",
              "    <tr style=\"text-align: right;\">\n",
              "      <th></th>\n",
              "      <th>all_reviews</th>\n",
              "      <th>business_id</th>\n",
              "      <th>name</th>\n",
              "      <th>stars</th>\n",
              "      <th>review_count</th>\n",
              "      <th>norm_review_count</th>\n",
              "    </tr>\n",
              "  </thead>\n",
              "  <tbody>\n",
              "    <tr>\n",
              "      <th>5</th>\n",
              "      <td>b'Very busy and noisy restaurant.\\nAsparagas w...</td>\n",
              "      <td>--9e1ONYQuAa-CB_Rrw7Tw</td>\n",
              "      <td>Delmonico Steakhouse</td>\n",
              "      <td>4.0</td>\n",
              "      <td>1613</td>\n",
              "      <td>0.176852</td>\n",
              "    </tr>\n",
              "    <tr>\n",
              "      <th>28</th>\n",
              "      <td>b'Food was good. Got the # lunch combo. At fir...</td>\n",
              "      <td>--cZ6Hhc9F7VkKXxHMVZSQ</td>\n",
              "      <td>Pio Pio</td>\n",
              "      <td>4.0</td>\n",
              "      <td>346</td>\n",
              "      <td>0.022000</td>\n",
              "    </tr>\n",
              "    <tr>\n",
              "      <th>53</th>\n",
              "      <td>b'The good thing about going here alone ...its...</td>\n",
              "      <td>-050d_XIor1NpCuWkbIVaQ</td>\n",
              "      <td>Matt's Big Breakfast</td>\n",
              "      <td>4.0</td>\n",
              "      <td>703</td>\n",
              "      <td>0.065632</td>\n",
              "    </tr>\n",
              "    <tr>\n",
              "      <th>99</th>\n",
              "      <td>b'Do not stay here unless you are willing to N...</td>\n",
              "      <td>-0qht1roIqleKiQkBLDkbw</td>\n",
              "      <td>Cancun Resort Las Vegas by Diamond Resorts</td>\n",
              "      <td>3.0</td>\n",
              "      <td>392</td>\n",
              "      <td>0.027622</td>\n",
              "    </tr>\n",
              "    <tr>\n",
              "      <th>122</th>\n",
              "      <td>b\"Service sucks sooooooo bad. I waited  minute...</td>\n",
              "      <td>-1UMR00eXtwaeh59pEiDjA</td>\n",
              "      <td>Matt's Big Breakfast</td>\n",
              "      <td>3.5</td>\n",
              "      <td>412</td>\n",
              "      <td>0.030066</td>\n",
              "    </tr>\n",
              "  </tbody>\n",
              "</table>\n",
              "</div>"
            ],
            "text/plain": [
              "                                           all_reviews  \\\n",
              "5    b'Very busy and noisy restaurant.\\nAsparagas w...   \n",
              "28   b'Food was good. Got the # lunch combo. At fir...   \n",
              "53   b'The good thing about going here alone ...its...   \n",
              "99   b'Do not stay here unless you are willing to N...   \n",
              "122  b\"Service sucks sooooooo bad. I waited  minute...   \n",
              "\n",
              "                business_id                                        name  \\\n",
              "5    --9e1ONYQuAa-CB_Rrw7Tw                        Delmonico Steakhouse   \n",
              "28   --cZ6Hhc9F7VkKXxHMVZSQ                                     Pio Pio   \n",
              "53   -050d_XIor1NpCuWkbIVaQ                        Matt's Big Breakfast   \n",
              "99   -0qht1roIqleKiQkBLDkbw  Cancun Resort Las Vegas by Diamond Resorts   \n",
              "122  -1UMR00eXtwaeh59pEiDjA                        Matt's Big Breakfast   \n",
              "\n",
              "     stars  review_count  norm_review_count  \n",
              "5      4.0          1613           0.176852  \n",
              "28     4.0           346           0.022000  \n",
              "53     4.0           703           0.065632  \n",
              "99     3.0           392           0.027622  \n",
              "122    3.5           412           0.030066  "
            ]
          },
          "metadata": {
            "tags": []
          },
          "execution_count": 24
        }
      ]
    },
    {
      "metadata": {
        "id": "RmxVkLtcGJAt",
        "colab_type": "text"
      },
      "cell_type": "markdown",
      "source": [
        "# **Vectorizing all_reviews**"
      ]
    },
    {
      "metadata": {
        "id": "3h1fnVbyD1HR",
        "colab_type": "code",
        "colab": {}
      },
      "cell_type": "code",
      "source": [
        "# TfIdfVectorizer: transforms text into a \"sparse matrix\" where rows are text and columns are words, and values are the tf-dif values.\n",
        "\n",
        "import sklearn.feature_extraction.text as sk_text\n",
        "\n",
        "vectorizer = sk_text.TfidfVectorizer( stop_words='english',      # stop words = him, a, and , the, an etc\n",
        "                                     max_features = 1000, lowercase=True, \n",
        "                                     min_df=1)\n",
        "\n",
        "\n",
        "#max_features:  build a vocabulary that only consider the top max_features features ordered by term frequency across the corpus.\n",
        "df_reviews = df_mix.all_reviews\n",
        "matrix = vectorizer.fit_transform(df_reviews)\n",
        "\n"
      ],
      "execution_count": 0,
      "outputs": []
    },
    {
      "metadata": {
        "id": "DZJGLg4aFtyo",
        "colab_type": "code",
        "outputId": "e82a5734-dd65-4cae-d0bb-b1b5449ec5ad",
        "colab": {
          "base_uri": "https://localhost:8080/",
          "height": 54
        }
      },
      "cell_type": "code",
      "source": [
        "print(vectorizer.get_feature_names())"
      ],
      "execution_count": 27,
      "outputs": [
        {
          "output_type": "stream",
          "text": [
            "['able', 'absolutely', 'accommodating', 'actually', 'add', 'added', 'addition', 'afternoon', 'ago', 'ahead', 'air', 'airport', 'amazing', 'ambiance', 'ambience', 'american', 'apparently', 'appetizer', 'appetizers', 'apple', 'appreciate', 'area', 'aren', 'arrived', 'asian', 'ask', 'asked', 'asking', 'ate', 'atmosphere', 'attention', 'attentive', 'attitude', 'authentic', 'available', 'average', 'avocado', 'avoid', 'away', 'awesome', 'awful', 'ayce', 'bacon', 'bad', 'baked', 'banana', 'bar', 'barely', 'bartender', 'bartenders', 'based', 'basically', 'bathroom', 'bbq', 'bean', 'beans', 'beat', 'beautiful', 'bed', 'beef', 'beer', 'beers', 'believe', 'bellagio', 'belly', 'benedict', 'best', 'better', 'big', 'birthday', 'bit', 'bite', 'black', 'bland', 'blue', 'bomb', 'bone', 'book', 'bottle', 'bought', 'bowl', 'box', 'boy', 'boyfriend', 'bread', 'breakfast', 'bring', 'brisket', 'broth', 'brought', 'brunch', 'bucks', 'buffet', 'building', 'bun', 'bunch', 'burger', 'burgers', 'burrito', 'business', 'busy', 'butter', 'buy', 'cafe', 'cake', 'calamari', 'called', 'came', 'car', 'card', 'care', 'case', 'cash', 'casino', 'casual', 'cause', 'center', 'certainly', 'chairs', 'chance', 'change', 'changed', 'charge', 'charged', 'cheap', 'check', 'checked', 'checking', 'cheese', 'cheesecake', 'chef', 'chicken', 'chili', 'chinese', 'chips', 'chocolate', 'choice', 'choices', 'choose', 'chose', 'city', 'classic', 'clean', 'clearly', 'close', 'closed', 'club', 'cocktail', 'cocktails', 'coconut', 'coffee', 'cold', 'combo', 'come', 'comes', 'comfortable', 'coming', 'company', 'compared', 'complaint', 'completely', 'considering', 'conversation', 'cook', 'cooked', 'cool', 'corn', 'corner', 'cost', 'couldn', 'counter', 'couple', 'course', 'covered', 'crab', 'craving', 'crazy', 'cream', 'creamy', 'credit', 'crispy', 'crowd', 'crowded', 'crust', 'cup', 'curry', 'customer', 'customers', 'cut', 'cute', 'dance', 'dark', 'date', 'daughter', 'day', 'days', 'deal', 'decent', 'decided', 'decor', 'deep', 'definitely', 'delicious', 'delivered', 'delivery', 'desert', 'desk', 'despite', 'dessert', 'desserts', 'did', 'didn', 'die', 'different', 'dim', 'dine', 'dining', 'dinner', 'dip', 'dirty', 'disappoint', 'disappointed', 'disappointing', 'dish', 'dishes', 'does', 'doesn', 'dog', 'doing', 'dollars', 'don', 'door', 'double', 'downtown', 'dressing', 'drink', 'drinks', 'drive', 'dry', 'duck', 'early', 'easily', 'easy', 'eat', 'eaten', 'eating', 'egg', 'eggs', 'employees', 'end', 'ended', 'enjoy', 'enjoyed', 'entire', 'entree', 'entrees', 'environment', 'especially', 'establishment', 'evening', 'exactly', 'excellent', 'excited', 'expect', 'expectations', 'expected', 'expecting', 'expensive', 'experience', 'explained', 'extra', 'extremely', 'eye', 'fabulous', 'face', 'fact', 'fair', 'fairly', 'family', 'fan', 'fancy', 'fantastic', 'far', 'fast', 'fat', 'favorite', 'favorites', 'fee', 'feel', 'feeling', 'felt', 'filet', 'filled', 'filling', 'finally', 'fine', 'finish', 'finished', 'fish', 'fix', 'flavor', 'flavorful', 'flavors', 'flight', 'floor', 'food', 'foods', 'forever', 'forget', 'forgot', 'forward', 'free', 'french', 'fresh', 'friday', 'fried', 'friend', 'friendly', 'friends', 'fries', 'frozen', 'fruit', 'fun', 'future', 'game', 'games', 'garlic', 'gave', 'gem', 'generous', 'gets', 'getting', 'girl', 'girlfriend', 'girls', 'given', 'giving', 'glad', 'glass', 'glasses', 'gluten', 'goes', 'going', 'gone', 'good', 'got', 'gotten', 'grab', 'gravy', 'greasy', 'great', 'green', 'greeted', 'grill', 'grilled', 'group', 'guacamole', 'guess', 'guest', 'guests', 'guy', 'guys', 'hair', 'half', 'hand', 'hands', 'happened', 'happy', 'hard', 'hash', 'hate', 'haven', 'having', 'head', 'healthy', 'hear', 'heard', 'heat', 'heavy', 'help', 'helped', 'helpful', 'high', 'highly', 'hit', 'home', 'homemade', 'honestly', 'honey', 'hope', 'horrible', 'hostess', 'hot', 'hotel', 'hotels', 'hour', 'hours', 'house', 'huge', 'hungry', 'husband', 'ice', 'idea', 'immediately', 'impressed', 'included', 'including', 'incredible', 'incredibly', 'indian', 'ingredients', 'inside', 'instead', 'interesting', 'interior', 'isn', 'issue', 'issues', 'italian', 'item', 'items', 'japanese', 'job', 'joint', 'juice', 'juicy', 'just', 'kept', 'kids', 'kind', 'kinda', 'king', 'kitchen', 'knew', 'know', 'knowledgeable', 'korean', 'la', 'lack', 'lady', 'lamb', 'large', 'las', 'late', 'later', 'leave', 'leaving', 'left', 'legs', 'lemon', 'let', 'lettuce', 'level', 'life', 'light', 'like', 'liked', 'limited', 'line', 'lines', 'list', 'literally', 'little', 'live', 'll', 'lobster', 'local', 'located', 'location', 'lol', 'long', 'longer', 'look', 'looked', 'looking', 'looks', 'lost', 'lot', 'lots', 'loud', 'lounge', 'love', 'loved', 'lovely', 'low', 'lunch', 'mac', 'main', 'make', 'makes', 'making', 'mall', 'man', 'management', 'manager', 'mango', 'margarita', 'mashed', 'matter', 'maybe', 'meal', 'meals', 'mean', 'means', 'meat', 'meats', 'mediocre', 'medium', 'mention', 'mentioned', 'menu', 'met', 'mexican', 'middle', 'milk', 'min', 'mind', 'mini', 'mins', 'minute', 'minutes', 'miss', 'missing', 'mix', 'mixed', 'modern', 'mom', 'money', 'month', 'months', 'morning', 'mouth', 'moved', 'movie', 'multiple', 'mushroom', 'mushrooms', 'music', 'nachos', 'nall', 'nand', 'nas', 'near', 'need', 'needed', 'needs', 'neighborhood', 'new', 'nfood', 'nfor', 'ni', 'nice', 'nicely', 'nif', 'night', 'nights', 'nit', 'nmy', 'non', 'noodle', 'noodles', 'normal', 'normally', 'notch', 'note', 'noticed', 'nour', 'noverall', 'nservice', 'nso', 'nthe', 'nthere', 'nthey', 'nthis', 'number', 'nwe', 'nwhen', 'obviously', 'offer', 'offered', 'oh', 'oil', 'ok', 'okay', 'old', 'omg', 'ones', 'onion', 'onions', 'online', 'open', 'opened', 'opinion', 'option', 'options', 'orange', 'order', 'ordered', 'ordering', 'orders', 'original', 'outdoor', 'outside', 'outstanding', 'overall', 'overpriced', 'owner', 'owners', 'oysters', 'packed', 'pad', 'paid', 'pancakes', 'park', 'parking', 'party', 'pass', 'past', 'pasta', 'patio', 'pay', 'paying', 'people', 'pepper', 'peppers', 'perfect', 'perfection', 'perfectly', 'person', 'personal', 'phenomenal', 'pho', 'phoenix', 'phone', 'pick', 'picked', 'pictures', 'pie', 'piece', 'pieces', 'pizza', 'place', 'places', 'plain', 'plan', 'plate', 'plates', 'play', 'playing', 'pleasant', 'pleased', 'plenty', 'plus', 'pm', 'point', 'pool', 'poor', 'popular', 'pork', 'portion', 'portions', 'pot', 'potato', 'potatoes', 'prefer', 'prepared', 'presentation', 'pretty', 'price', 'priced', 'prices', 'pricey', 'prime', 'probably', 'problem', 'professional', 'pulled', 'quality', 'questions', 'quick', 'quickly', 'quiet', 'quite', 'ramen', 'rare', 'rating', 'read', 'ready', 'real', 'really', 'reason', 'reasonable', 'received', 'recently', 'recommend', 'recommended', 'red', 'refreshing', 'regular', 'remember', 'reservation', 'reservations', 'resort', 'rest', 'restaurant', 'restaurants', 'return', 'returning', 'review', 'reviews', 'rib', 'ribs', 'rice', 'rich', 'right', 'roasted', 'rock', 'roll', 'rolls', 'room', 'rooms', 'rude', 'run', 'running', 'sad', 'said', 'salad', 'salads', 'salmon', 'salsa', 'salt', 'salty', 'sandwich', 'sandwiches', 'sashimi', 'sat', 'satisfied', 'saturday', 'sauce', 'sauces', 'sausage', 'save', 'saw', 'say', 'saying', 'says', 'scallops', 'school', 'scottsdale', 'seafood', 'seasoned', 'seat', 'seated', 'seating', 'seats', 'second', 'section', 'security', 'seeing', 'seen', 'selection', 'sent', 'seriously', 'serve', 'served', 'server', 'servers', 'service', 'serving', 'set', 'share', 'shared', 'shop', 'shopping', 'short', 'shot', 'showed', 'shows', 'shrimp', 'sides', 'sign', 'similar', 'simple', 'simply', 'single', 'sit', 'sitting', 'size', 'slice', 'slices', 'slightly', 'slow', 'small', 'smaller', 'smell', 'smile', 'smoked', 'soft', 'solid', 'son', 'soon', 'sorry', 'sort', 'soup', 'sour', 'space', 'speak', 'special', 'specials', 'spend', 'spent', 'spice', 'spicy', 'spinach', 'split', 'spot', 'spots', 'spring', 'st', 'staff', 'stand', 'standard', 'star', 'stars', 'start', 'started', 'station', 'stay', 'stayed', 'staying', 'steak', 'stop', 'stopped', 'store', 'strawberry', 'street', 'strip', 'strong', 'stuff', 'stuffed', 'style', 'sugar', 'suggest', 'summer', 'sunday', 'super', 'supposed', 'sure', 'surprise', 'surprised', 'sushi', 'sweet', 'table', 'tables', 'taco', 'tacos', 'taken', 'takes', 'taking', 'talk', 'talking', 'taste', 'tasted', 'tastes', 'tasting', 'tasty', 'tea', 'tell', 'tender', 'terrible', 'texture', 'th', 'thai', 'thank', 'thanks', 'thing', 'things', 'think', 'thinking', 'thought', 'tickets', 'time', 'times', 'tiny', 'tip', 'toast', 'today', 'tofu', 'told', 'tomato', 'tomatoes', 'tonight', 'took', 'topped', 'toppings', 'toronto', 'total', 'totally', 'touch', 'town', 'traditional', 'treat', 'tried', 'trip', 'true', 'truffle', 'truly', 'try', 'trying', 'tuna', 'turkey', 'turn', 'turned', 'tv', 'twice', 'type', 'typical', 'understand', 'unfortunately', 'unique', 'unless', 'use', 'used', 'usual', 'usually', 'valley', 'value', 'variety', 've', 'vegan', 'vegas', 'vegetables', 'vegetarian', 'veggie', 'veggies', 'vibe', 'view', 'visit', 'visited', 'visiting', 'waffle', 'waffles', 'wait', 'waited', 'waiter', 'waiting', 'waitress', 'walk', 'walked', 'walking', 'wall', 'want', 'wanted', 'warm', 'wasn', 'waste', 'watch', 'watching', 'water', 'way', 'week', 'weekend', 'weeks', 'weird', 'welcoming', 'went', 'weren', 'white', 'wife', 'window', 'wine', 'wings', 'wish', 'won', 'wonderful', 'word', 'work', 'worked', 'working', 'works', 'world', 'worst', 'worth', 'wouldn', 'wow', 'write', 'wrong', 'xa', 'xb', 'xc', 'xe', 'yeah', 'year', 'years', 'yelp', 'yes', 'york', 'young', 'yum', 'yummy']\n"
          ],
          "name": "stdout"
        }
      ]
    },
    {
      "metadata": {
        "id": "00hOfo03OfBp",
        "colab_type": "text"
      },
      "cell_type": "markdown",
      "source": [
        "# **Converting normalized and vectorized outputs to numpy arrays for Concatenation**"
      ]
    },
    {
      "metadata": {
        "id": "PBFN5JwIGvmV",
        "colab_type": "code",
        "colab": {}
      },
      "cell_type": "code",
      "source": [
        "# Converting resultant outputs of normalization and vectorization into numpy arrays\n",
        "numpyArr = matrix.toarray()\n",
        "reviewCountArr = df_mix.as_matrix(columns=['norm_review_count'])"
      ],
      "execution_count": 0,
      "outputs": []
    },
    {
      "metadata": {
        "id": "e6uw8aKtHCIZ",
        "colab_type": "code",
        "outputId": "c66d2f78-db35-43a7-8fc0-3f66116fd5d1",
        "colab": {
          "base_uri": "https://localhost:8080/",
          "height": 34
        }
      },
      "cell_type": "code",
      "source": [
        "reviewCountArr.shape"
      ],
      "execution_count": 29,
      "outputs": [
        {
          "output_type": "execute_result",
          "data": {
            "text/plain": [
              "(7083, 1)"
            ]
          },
          "metadata": {
            "tags": []
          },
          "execution_count": 29
        }
      ]
    },
    {
      "metadata": {
        "id": "fdJtLYAUHHmj",
        "colab_type": "code",
        "outputId": "f76b3cd4-47da-4b37-8dfc-63fe2506a515",
        "colab": {
          "base_uri": "https://localhost:8080/",
          "height": 34
        }
      },
      "cell_type": "code",
      "source": [
        "numpyArr.shape"
      ],
      "execution_count": 30,
      "outputs": [
        {
          "output_type": "execute_result",
          "data": {
            "text/plain": [
              "(7083, 1000)"
            ]
          },
          "metadata": {
            "tags": []
          },
          "execution_count": 30
        }
      ]
    },
    {
      "metadata": {
        "id": "46dOYO3oHfvJ",
        "colab_type": "text"
      },
      "cell_type": "markdown",
      "source": [
        "# **Create X and Y for each model**"
      ]
    },
    {
      "metadata": {
        "id": "WDnAArNWHk5s",
        "colab_type": "code",
        "colab": {}
      },
      "cell_type": "code",
      "source": [
        "X = np.concatenate((numpyArr,reviewCountArr), axis =1)       # features used for prediction\n",
        "y = np.array(df_mix.stars)                                   # target"
      ],
      "execution_count": 0,
      "outputs": []
    },
    {
      "metadata": {
        "id": "-ZWsqPdSILlt",
        "colab_type": "code",
        "outputId": "ea059b34-a7d9-4901-ec83-096f90f0e2f8",
        "colab": {
          "base_uri": "https://localhost:8080/",
          "height": 34
        }
      },
      "cell_type": "code",
      "source": [
        "from sklearn import utils\n",
        "\n",
        "print(utils.multiclass.type_of_target(y))                     # this type is used for regression but not for classification\n",
        "                                                              # Y values are linear hence no classes \n",
        "\n"
      ],
      "execution_count": 32,
      "outputs": [
        {
          "output_type": "stream",
          "text": [
            "continuous\n"
          ],
          "name": "stdout"
        }
      ]
    },
    {
      "metadata": {
        "id": "Z8ga360ZIOno",
        "colab_type": "code",
        "outputId": "368e3e13-561b-46dd-a568-3fe25ea266c9",
        "colab": {
          "base_uri": "https://localhost:8080/",
          "height": 34
        }
      },
      "cell_type": "code",
      "source": [
        "from sklearn import preprocessing                             # label encoding y to use in classification models\n",
        "\n",
        "le = preprocessing.LabelEncoder()\n",
        "encoded_y=le.fit_transform(y)\n",
        "le.classes_"
      ],
      "execution_count": 33,
      "outputs": [
        {
          "output_type": "execute_result",
          "data": {
            "text/plain": [
              "array([1. , 1.5, 2. , 2.5, 3. , 3.5, 4. , 4.5, 5. ])"
            ]
          },
          "metadata": {
            "tags": []
          },
          "execution_count": 33
        }
      ]
    },
    {
      "metadata": {
        "id": "GL_V48LKIVMo",
        "colab_type": "code",
        "outputId": "6e33da86-7887-45b6-b821-ad6f8ea398ba",
        "colab": {
          "base_uri": "https://localhost:8080/",
          "height": 34
        }
      },
      "cell_type": "code",
      "source": [
        "from sklearn import utils                                       # as we can see encoded_y is a multiclass type now\n",
        "\n",
        "print(utils.multiclass.type_of_target(encoded_y))               # this can be used in classification models"
      ],
      "execution_count": 34,
      "outputs": [
        {
          "output_type": "stream",
          "text": [
            "multiclass\n"
          ],
          "name": "stdout"
        }
      ]
    },
    {
      "metadata": {
        "id": "iDLlzDCgIb8n",
        "colab_type": "text"
      },
      "cell_type": "markdown",
      "source": [
        "# **Split data to training and Testing**"
      ]
    },
    {
      "metadata": {
        "id": "zbS9QXptIaeF",
        "colab_type": "code",
        "colab": {}
      },
      "cell_type": "code",
      "source": [
        "from sklearn.model_selection import train_test_split                           # classification training and testing data\n",
        "\n",
        "X_train, X_test, y_train, y_test = train_test_split(X, encoded_y, test_size=0.2, random_state=1)  #test_size = 0.2 = test = 20%, train = 80%"
      ],
      "execution_count": 0,
      "outputs": []
    },
    {
      "metadata": {
        "id": "AfnvIH9oIm_R",
        "colab_type": "code",
        "colab": {}
      },
      "cell_type": "code",
      "source": [
        "X_train_reg, X_test_reg, y_train_reg, y_test_reg = train_test_split(X, y, test_size=0.2, random_state=1)  #Regression"
      ],
      "execution_count": 0,
      "outputs": []
    },
    {
      "metadata": {
        "id": "vgJQMu92IsWO",
        "colab_type": "text"
      },
      "cell_type": "markdown",
      "source": [
        "# **Models**"
      ]
    },
    {
      "metadata": {
        "id": "rbewVwEvpWTW",
        "colab_type": "text"
      },
      "cell_type": "markdown",
      "source": [
        "# **Linear Regression**"
      ]
    },
    {
      "metadata": {
        "id": "IAY1ReDkJgcC",
        "colab_type": "code",
        "outputId": "3e6f6bf7-ee77-49b4-f945-7d17ea9399e4",
        "colab": {
          "base_uri": "https://localhost:8080/",
          "height": 308
        }
      },
      "cell_type": "code",
      "source": [
        "#Linear Regression\n",
        "from sklearn import  linear_model\n",
        "preprocess = False\n",
        "li = linear_model.LinearRegression()\n",
        "li.fit(X_train_reg, y_train_reg)\n",
        "li_prediction = li.predict(X_test_reg)\n",
        "print('\\n')\n",
        "print ('Linear Regression')\n",
        "print('\\n')\n",
        "print('Actual values:')\n",
        "print('\\n')\n",
        "print(y_test_reg[:15])\n",
        "print('\\n')\n",
        "print('Predicted values:')\n",
        "print('\\n')\n",
        "print(li_prediction[:15])\n",
        "\n",
        "def chart_regression(li_prediction,y,sort=True):\n",
        "    plt.figure(figsize=(20,5))\n",
        "    t = pd.DataFrame({'li_prediction' : li_prediction, 'y' : y.flatten()})\n",
        "    if sort:\n",
        "        t.sort_values(by=['y'],inplace=True)\n",
        "    a = plt.plot(t['y'].tolist(),label='expected')\n",
        "    b = plt.plot(t['li_prediction'].tolist(),label='prediction')\n",
        "    plt.ylabel('output')\n",
        "    plt.legend()\n",
        "    plt.xlim([0.0, 40.0])\n",
        "    plt.ylim([0.0, 5.0])\n",
        "    plt.show()\n",
        "    \n",
        "    "
      ],
      "execution_count": 109,
      "outputs": [
        {
          "output_type": "stream",
          "text": [
            "\n",
            "\n",
            "Linear Regression\n",
            "\n",
            "\n",
            "Actual values:\n",
            "\n",
            "\n",
            "[3.5 4.5 4.  3.5 4.  3.5 3.5 4.  3.5 3.5 4.5 3.5 2.5 4.  4.5]\n",
            "\n",
            "\n",
            "Predicted values:\n",
            "\n",
            "\n",
            "[3.53235771 4.36571788 4.00795038 3.56283141 3.73724097 3.82282087\n",
            " 3.2184098  4.09923461 3.60150011 3.76940699 4.26151295 3.47071886\n",
            " 2.62464387 4.10462066 4.51949841]\n"
          ],
          "name": "stdout"
        }
      ]
    },
    {
      "metadata": {
        "id": "QVs2QsLXoc7R",
        "colab_type": "text"
      },
      "cell_type": "markdown",
      "source": [
        "## **Chart regression for Linear regression**"
      ]
    },
    {
      "metadata": {
        "colab_type": "code",
        "outputId": "9e317665-4074-4b50-a5bb-3bfa898b4e8d",
        "id": "d7y2ZJnpnyOZ",
        "colab": {
          "base_uri": "https://localhost:8080/",
          "height": 344
        }
      },
      "cell_type": "code",
      "source": [
        "\n",
        "chart_regression(li_prediction.flatten(),y_test_reg,sort=False)\n"
      ],
      "execution_count": 116,
      "outputs": [
        {
          "output_type": "display_data",
          "data": {
            "image/png": "[encoded data removed]",
            "text/plain": [
              "<Figure size 1440x360 with 1 Axes>"
            ]
          },
          "metadata": {
            "tags": []
          }
        }
      ]
    },
    {
      "metadata": {
        "id": "cMj-d__1rAVp",
        "colab_type": "text"
      },
      "cell_type": "markdown",
      "source": [
        "## **Regression Loss**"
      ]
    },
    {
      "metadata": {
        "id": "3XylamuQJnBp",
        "colab_type": "code",
        "outputId": "38fe6a06-e5ef-4f42-a3ae-ff530fcf61f5",
        "colab": {
          "base_uri": "https://localhost:8080/",
          "height": 103
        }
      },
      "cell_type": "code",
      "source": [
        "from sklearn.metrics import mean_squared_error, r2_score\n",
        "import matplotlib.pyplot as plt\n",
        "\n",
        "# The coefficients\n",
        "print('Coefficients: \\n', li.coef_)\n",
        "\n",
        "print(\"Mean squared error: %.2f\" % mean_squared_error(y_test, prediction_lr))\n",
        "\n",
        "# Explained variance score: 1 is perfect prediction\n",
        "print('Variance score: %.2f' % r2_score(y_test, prediction_lr))"
      ],
      "execution_count": 70,
      "outputs": [
        {
          "output_type": "stream",
          "text": [
            "Coefficients: \n",
            " [ 2.01000118 -0.41005373  0.4886997  ... -0.30931306 -0.25096418\n",
            "  0.18137061]\n",
            "Mean squared error: 0.55\n",
            "Variance score: 0.60\n"
          ],
          "name": "stdout"
        }
      ]
    },
    {
      "metadata": {
        "id": "WIgXvs9tpkHU",
        "colab_type": "text"
      },
      "cell_type": "markdown",
      "source": [
        "# **Logistic Regression**"
      ]
    },
    {
      "metadata": {
        "id": "Ovf53yCaJYCJ",
        "colab_type": "code",
        "outputId": "6fae893b-0d69-43f5-f762-a482543f5533",
        "colab": {
          "base_uri": "https://localhost:8080/",
          "height": 791
        }
      },
      "cell_type": "code",
      "source": [
        "#Logistic Regression                                        # 8/15 matches\n",
        "\n",
        "clf_lr = LogisticRegression()                                 # clf short for classifier\n",
        "clf_lr.fit(X_train, y_train)\n",
        "prediction_lr = clf_lr.predict(X_test)\n",
        "print('\\n')\n",
        "print ('Logistic Regression')\n",
        "print('\\n')\n",
        "print('confusion matrix:')\n",
        "print(confusion_matrix(y_test, prediction))\n",
        "print('\\n')\n",
        "print('classification report:')\n",
        "print(classification_report(y_test, prediction))\n",
        "print('Actual values:')\n",
        "print(y_test[:15])\n",
        "print('Predicted values:')\n",
        "print(prediction_lr[:15])\n",
        "preprocess = False\n",
        "def chart_regression(prediction_lr,y,sort=True):\n",
        "    plt.figure(figsize=(20,5))\n",
        "    t = pd.DataFrame({'prediction_lr' : prediction_lr, 'y' : y.flatten()})\n",
        "    if sort:\n",
        "        t.sort_values(by=['y'],inplace=True)\n",
        "    a = plt.plot(t['y'].tolist(),label='expected')\n",
        "    b = plt.plot(t['prediction_lr'].tolist(),label='prediction')\n",
        "    plt.ylabel('output')\n",
        "    plt.legend()\n",
        "    plt.xlim([0.0, 40.0])\n",
        "    plt.ylim([0.0, 10.0])\n",
        "    plt.show()\n",
        "\n"
      ],
      "execution_count": 124,
      "outputs": [
        {
          "output_type": "stream",
          "text": [
            "/usr/local/lib/python3.6/dist-packages/sklearn/linear_model/logistic.py:433: FutureWarning: Default solver will be changed to 'lbfgs' in 0.22. Specify a solver to silence this warning.\n",
            "  FutureWarning)\n",
            "/usr/local/lib/python3.6/dist-packages/sklearn/linear_model/logistic.py:460: FutureWarning: Default multi_class will be changed to 'auto' in 0.22. Specify the multi_class option to silence this warning.\n",
            "  \"this warning.\", FutureWarning)\n"
          ],
          "name": "stderr"
        },
        {
          "output_type": "stream",
          "text": [
            "\n",
            "\n",
            "Logistic Regression\n",
            "\n",
            "\n",
            "confusion matrix:\n",
            "[[  0   0   0   2   0   0   0   0   0]\n",
            " [  0   0   0   6   2   1   0   0   0]\n",
            " [  0   0   0   9   1   2   1   0   0]\n",
            " [  0   0   0  11   5  16   5   0   1]\n",
            " [  0   0   0  16  15  45  61   2   2]\n",
            " [  0   0   0   8  22  34 271  16   1]\n",
            " [  0   0   0   5  18   6 483  42   3]\n",
            " [  0   0   0   0   5   5 185  71  13]\n",
            " [  0   0   0   0   0   0   3  11  12]]\n",
            "\n",
            "\n",
            "classification report:\n",
            "              precision    recall  f1-score   support\n",
            "\n",
            "           0       0.00      0.00      0.00         2\n",
            "           1       0.00      0.00      0.00         9\n",
            "           2       0.00      0.00      0.00        13\n",
            "           3       0.19      0.29      0.23        38\n",
            "           4       0.22      0.11      0.14       141\n",
            "           5       0.31      0.10      0.15       352\n",
            "           6       0.48      0.87      0.62       557\n",
            "           7       0.50      0.25      0.34       279\n",
            "           8       0.38      0.46      0.41        26\n",
            "\n",
            "   micro avg       0.44      0.44      0.44      1417\n",
            "   macro avg       0.23      0.23      0.21      1417\n",
            "weighted avg       0.40      0.44      0.37      1417\n",
            "\n",
            "Actual values:\n",
            "[5 7 6 5 6 5 5 6 5 5 7 5 3 6 7]\n",
            "Predicted values:\n",
            "[6 7 6 6 6 6 6 6 5 5 7 6 5 6 7]\n"
          ],
          "name": "stdout"
        },
        {
          "output_type": "stream",
          "text": [
            "/usr/local/lib/python3.6/dist-packages/sklearn/metrics/classification.py:1143: UndefinedMetricWarning: Precision and F-score are ill-defined and being set to 0.0 in labels with no predicted samples.\n",
            "  'precision', 'predicted', average, warn_for)\n"
          ],
          "name": "stderr"
        }
      ]
    },
    {
      "metadata": {
        "id": "vFtSm2h9oT8n",
        "colab_type": "text"
      },
      "cell_type": "markdown",
      "source": [
        "## **Chart regression for Logistic regression**"
      ]
    },
    {
      "metadata": {
        "id": "uP1qTjfMn53G",
        "colab_type": "code",
        "colab": {
          "base_uri": "https://localhost:8080/",
          "height": 344
        },
        "outputId": "e28bb034-e128-47f4-e68f-0bb31bd368be"
      },
      "cell_type": "code",
      "source": [
        "chart_regression(prediction_lr.flatten(),y_test,sort=False)\n"
      ],
      "execution_count": 126,
      "outputs": [
        {
          "output_type": "display_data",
          "data": {
            "image/png": "[encoded data removed]",
            "text/plain": [
              "<Figure size 1440x360 with 1 Axes>"
            ]
          },
          "metadata": {
            "tags": []
          }
        }
      ]
    },
    {
      "metadata": {
        "id": "xJUsdS_cp7Wx",
        "colab_type": "text"
      },
      "cell_type": "markdown",
      "source": [
        "# **Nearest neighbour**"
      ]
    },
    {
      "metadata": {
        "id": "poNIb3PDJ3On",
        "colab_type": "code",
        "outputId": "c994a875-f032-4333-f9f4-260c18bad85c",
        "colab": {
          "base_uri": "https://localhost:8080/",
          "height": 688
        }
      },
      "cell_type": "code",
      "source": [
        "#Nearest neighbor                                                         3/15 matches\n",
        "\n",
        "neigh = KNeighborsClassifier()\n",
        "neigh.fit(X_train, y_train)\n",
        "neigh_prediction = neigh.predict(X_test)\n",
        "print ('Nearest Neighbor')\n",
        "print('\\n')\n",
        "print('confusion matrix:')\n",
        "print(confusion_matrix(y_test, neigh_prediction))\n",
        "print('\\n')\n",
        "print('classification report:')\n",
        "print(classification_report(y_test, neigh_prediction))\n",
        "print('Actual values:')\n",
        "print(y_test[:15])\n",
        "print('Predicted values:')\n",
        "print(neigh_prediction[:15])"
      ],
      "execution_count": 72,
      "outputs": [
        {
          "output_type": "stream",
          "text": [
            "Nearest Neighbor\n",
            "\n",
            "\n",
            "confusion matrix:\n",
            "[[  0   2   0   0   0   0   0   0   0]\n",
            " [  0   5   2   2   0   0   0   0   0]\n",
            " [  0   4   3   4   1   0   1   0   0]\n",
            " [  0   0   6  17   9   3   3   0   0]\n",
            " [  0   3   1  21  49  48  17   2   0]\n",
            " [  0   0   2   9  41 158 132  10   0]\n",
            " [  0   1   1   3  12 144 344  52   0]\n",
            " [  0   0   0   0   2  26 151  96   4]\n",
            " [  0   0   0   0   0   0   5  13   8]]\n",
            "\n",
            "\n",
            "classification report:\n",
            "              precision    recall  f1-score   support\n",
            "\n",
            "           0       0.00      0.00      0.00         2\n",
            "           1       0.33      0.56      0.42         9\n",
            "           2       0.20      0.23      0.21        13\n",
            "           3       0.30      0.45      0.36        38\n",
            "           4       0.43      0.35      0.38       141\n",
            "           5       0.42      0.45      0.43       352\n",
            "           6       0.53      0.62      0.57       557\n",
            "           7       0.55      0.34      0.42       279\n",
            "           8       0.67      0.31      0.42        26\n",
            "\n",
            "   micro avg       0.48      0.48      0.48      1417\n",
            "   macro avg       0.38      0.37      0.36      1417\n",
            "weighted avg       0.49      0.48      0.47      1417\n",
            "\n",
            "Actual values:\n",
            "[5 7 6 5 6 5 5 6 5 5 7 5 3 6 7]\n",
            "Predicted values:\n",
            "[6 7 5 6 6 6 6 6 4 5 5 5 4 2 5]\n"
          ],
          "name": "stdout"
        },
        {
          "output_type": "stream",
          "text": [
            "/usr/local/lib/python3.6/dist-packages/sklearn/metrics/classification.py:1143: UndefinedMetricWarning: Precision and F-score are ill-defined and being set to 0.0 in labels with no predicted samples.\n",
            "  'precision', 'predicted', average, warn_for)\n"
          ],
          "name": "stderr"
        }
      ]
    },
    {
      "metadata": {
        "id": "6ud4h02KqMsv",
        "colab_type": "text"
      },
      "cell_type": "markdown",
      "source": [
        "# **SVM Support Vector Machine**"
      ]
    },
    {
      "metadata": {
        "id": "Vi3aSIa6JrPZ",
        "colab_type": "code",
        "outputId": "7bf64a10-c4dc-44d9-95c5-03b8ae7800d8",
        "colab": {
          "base_uri": "https://localhost:8080/",
          "height": 723
        }
      },
      "cell_type": "code",
      "source": [
        "#SVM                                                                     10/15 matches\n",
        "from sklearn.svm import SVC\n",
        "\n",
        "svm_clf = SVC(kernel='linear')\n",
        "svm_clf.fit(X_train, y_train)\n",
        "svm_prediction = svm_clf.predict(X_test)\n",
        "print('\\n')\n",
        "print ('SVM')\n",
        "print('\\n')\n",
        "print('confusion matrix:')\n",
        "print(confusion_matrix(y_test, svm_prediction))\n",
        "print('\\n')\n",
        "print('classification report:')\n",
        "print(classification_report(y_test, svm_prediction))\n",
        "print('Actual values:')\n",
        "print(y_test[:15])\n",
        "print('Predicted values:')\n",
        "print(svm_prediction[:15])"
      ],
      "execution_count": 71,
      "outputs": [
        {
          "output_type": "stream",
          "text": [
            "\n",
            "\n",
            "SVM\n",
            "\n",
            "\n",
            "confusion matrix:\n",
            "[[  0   2   0   0   0   0   0   0   0]\n",
            " [  0   5   1   3   0   0   0   0   0]\n",
            " [  0   2   1   5   5   0   0   0   0]\n",
            " [  0   0   0   7  31   0   0   0   0]\n",
            " [  0   2   0   2  73  63   1   0   0]\n",
            " [  0   0   0   0  17 237  97   1   0]\n",
            " [  0   0   0   0   2  34 483  38   0]\n",
            " [  0   0   0   0   0   0  83 195   1]\n",
            " [  0   0   0   0   0   0   0  22   4]]\n",
            "\n",
            "\n",
            "classification report:\n",
            "              precision    recall  f1-score   support\n",
            "\n",
            "           0       0.00      0.00      0.00         2\n",
            "           1       0.45      0.56      0.50         9\n",
            "           2       0.50      0.08      0.13        13\n",
            "           3       0.41      0.18      0.25        38\n",
            "           4       0.57      0.52      0.54       141\n",
            "           5       0.71      0.67      0.69       352\n",
            "           6       0.73      0.87      0.79       557\n",
            "           7       0.76      0.70      0.73       279\n",
            "           8       0.80      0.15      0.26        26\n",
            "\n",
            "   micro avg       0.71      0.71      0.71      1417\n",
            "   macro avg       0.55      0.41      0.43      1417\n",
            "weighted avg       0.70      0.71      0.70      1417\n",
            "\n",
            "Actual values:\n",
            "[5 7 6 5 6 5 5 6 5 5 7 5 3 6 7]\n",
            "Predicted values:\n",
            "[6 7 6 6 6 6 5 6 5 5 7 5 4 6 7]\n"
          ],
          "name": "stdout"
        },
        {
          "output_type": "stream",
          "text": [
            "/usr/local/lib/python3.6/dist-packages/sklearn/metrics/classification.py:1143: UndefinedMetricWarning: Precision and F-score are ill-defined and being set to 0.0 in labels with no predicted samples.\n",
            "  'precision', 'predicted', average, warn_for)\n"
          ],
          "name": "stderr"
        }
      ]
    },
    {
      "metadata": {
        "id": "-ZMkU_PSwEWJ",
        "colab_type": "text"
      },
      "cell_type": "markdown",
      "source": [
        "# Multinomial Naive Bayes model"
      ]
    },
    {
      "metadata": {
        "id": "UNyOodZ3Iuwr",
        "colab_type": "code",
        "outputId": "2ca9be08-1b2c-4251-b057-3018cbaf90a4",
        "colab": {
          "base_uri": "https://localhost:8080/",
          "height": 723
        }
      },
      "cell_type": "code",
      "source": [
        "# Multinomial Naive Bayes model                                # 2/15 matches\n",
        "\n",
        "clf = MultinomialNB()\n",
        "clf.fit(X_train, y_train)\n",
        "prediction = clf.predict(X_test)\n",
        "print('\\n')\n",
        "print ('MultinomialNB')\n",
        "print('\\n')\n",
        "print('confusion matrix:')\n",
        "print(confusion_matrix(y_test, prediction))\n",
        "print('\\n')\n",
        "print('classification report:')\n",
        "print(classification_report(y_test, prediction))\n",
        "print('Actual values:')\n",
        "print(y_test[:15])\n",
        "print('Predicted values:')\n",
        "print(prediction[:15])"
      ],
      "execution_count": 66,
      "outputs": [
        {
          "output_type": "stream",
          "text": [
            "\n",
            "\n",
            "MultinomialNB\n",
            "\n",
            "\n",
            "confusion matrix:\n",
            "[[  0   0   0   2   0   0   0   0   0]\n",
            " [  0   0   0   6   2   1   0   0   0]\n",
            " [  0   0   0   9   1   2   1   0   0]\n",
            " [  0   0   0  11   5  16   5   0   1]\n",
            " [  0   0   0  16  15  45  61   2   2]\n",
            " [  0   0   0   8  22  34 271  16   1]\n",
            " [  0   0   0   5  18   6 483  42   3]\n",
            " [  0   0   0   0   5   5 185  71  13]\n",
            " [  0   0   0   0   0   0   3  11  12]]\n",
            "\n",
            "\n",
            "classification report:\n",
            "              precision    recall  f1-score   support\n",
            "\n",
            "           0       0.00      0.00      0.00         2\n",
            "           1       0.00      0.00      0.00         9\n",
            "           2       0.00      0.00      0.00        13\n",
            "           3       0.19      0.29      0.23        38\n",
            "           4       0.22      0.11      0.14       141\n",
            "           5       0.31      0.10      0.15       352\n",
            "           6       0.48      0.87      0.62       557\n",
            "           7       0.50      0.25      0.34       279\n",
            "           8       0.38      0.46      0.41        26\n",
            "\n",
            "   micro avg       0.44      0.44      0.44      1417\n",
            "   macro avg       0.23      0.23      0.21      1417\n",
            "weighted avg       0.40      0.44      0.37      1417\n",
            "\n",
            "Actual values:\n",
            "[5 7 6 5 6 5 5 6 5 5 7 5 3 6 7]\n",
            "Predicted values:\n",
            "[6 6 7 6 6 6 6 7 4 6 6 6 5 6 6]\n"
          ],
          "name": "stdout"
        },
        {
          "output_type": "stream",
          "text": [
            "/usr/local/lib/python3.6/dist-packages/sklearn/metrics/classification.py:1143: UndefinedMetricWarning: Precision and F-score are ill-defined and being set to 0.0 in labels with no predicted samples.\n",
            "  'precision', 'predicted', average, warn_for)\n"
          ],
          "name": "stderr"
        }
      ]
    }
  ]
}